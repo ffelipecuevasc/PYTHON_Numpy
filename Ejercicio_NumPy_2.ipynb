{
 "cells": [
  {
   "metadata": {},
   "cell_type": "markdown",
   "source": "**EJERCICIO 2** - GENERACIÓN DE DATOS Y REDIMENSIONADO CON NUMPY",
   "id": "aa4e684d37c00745"
  },
  {
   "metadata": {
    "ExecuteTime": {
     "end_time": "2025-06-17T01:43:44.580172Z",
     "start_time": "2025-06-17T01:43:44.572275Z"
    }
   },
   "cell_type": "code",
   "source": [
    "import numpy as np\n",
    "print(\"=== EJERCICIO: Generación de datos y redimensionado ===\\n\")\n",
    "print(F\"NumPy importado exitosamente. Versión = {np.__version__}\")"
   ],
   "id": "initial_id",
   "outputs": [
    {
     "name": "stdout",
     "output_type": "stream",
     "text": [
      "=== EJERCICIO: Generación de datos y redimensionado ===\n",
      "\n",
      "NumPy importado exitosamente. Versión = 1.26.4\n"
     ]
    }
   ],
   "execution_count": 17
  },
  {
   "metadata": {},
   "cell_type": "markdown",
   "source": "**PARTE 1** - Crear un arreglo con **np.arange()** y redimensionarlo en una matriz de 4x4",
   "id": "6968a6273a3696ed"
  },
  {
   "metadata": {
    "ExecuteTime": {
     "end_time": "2025-06-17T01:49:05.260836Z",
     "start_time": "2025-06-17T01:49:05.244864Z"
    }
   },
   "cell_type": "code",
   "source": [
    "print(\"PARTE 1 - Arreglo creado con np.arange(1, 17) redimensionado a 4x4.\")\n",
    "x = np.arange(1, 17)\n",
    "print(F\"Arreglo creado y se llama 'x' = {x}\")\n",
    "print(F\"Dimensionado original (ARREGLO UNIDIMENSIONAL) = {x.shape}\")\n",
    "\n",
    "x_redimensionado = x.reshape(4, 4)\n",
    "print(F\"Nueva dimensión de la matriz = 4x4\")\n",
    "print(F\"Matriz nueva = \\n{x_redimensionado}\")\n",
    "print(F\"Nuevo dimensionado (MATRIZ 4x4) = {x_redimensionado.shape}\")"
   ],
   "id": "59f1f895e0236602",
   "outputs": [
    {
     "name": "stdout",
     "output_type": "stream",
     "text": [
      "PARTE 1 - Arreglo creado con np.arange(1, 17) redimensionado a 4x4.\n",
      "Arreglo creado y se llama 'x' = [ 1  2  3  4  5  6  7  8  9 10 11 12 13 14 15 16]\n",
      "Dimensionado original (ARREGLO UNIDIMENSIONAL) = (16,)\n",
      "Nueva dimensión de la matriz = 4x4\n",
      "Matriz nueva = [[ 1  2  3  4]\n",
      " [ 5  6  7  8]\n",
      " [ 9 10 11 12]\n",
      " [13 14 15 16]]\n",
      "Nuevo dimensionado (MATRIZ 4x4) = (4, 4)\n"
     ]
    }
   ],
   "execution_count": 20
  },
  {
   "metadata": {},
   "cell_type": "markdown",
   "source": "**PARTE 2** - Crear un arreglo de 10 elementos equidistantes entre 0 y 100 usando **np.linspace()**",
   "id": "7d217b6e475d1012"
  },
  {
   "metadata": {
    "ExecuteTime": {
     "end_time": "2025-06-17T01:52:17.524292Z",
     "start_time": "2025-06-17T01:52:17.502905Z"
    }
   },
   "cell_type": "code",
   "source": [
    "print(\"PARTE 2 - Crear arreglo de 10 elementos equidistantes entre 0 y 100.\")\n",
    "y = np.linspace(0, 100, 10)\n",
    "print(F\"Arreglo creado y se llama 'y' = \\n{y}\")\n",
    "print(F\"Dimensionado original = {y.shape}\")"
   ],
   "id": "bc15e515ffe5d9ac",
   "outputs": [
    {
     "name": "stdout",
     "output_type": "stream",
     "text": [
      "PARTE 2 - Crear arreglo de 10 elementos equidistantes entre 0 y 100.\n",
      "Arreglo creado y se llama 'y' = \n",
      "[  0.          11.11111111  22.22222222  33.33333333  44.44444444\n",
      "  55.55555556  66.66666667  77.77777778  88.88888889 100.        ]\n",
      "Dimensionado original = (10,)\n"
     ]
    }
   ],
   "execution_count": 22
  },
  {
   "metadata": {},
   "cell_type": "markdown",
   "source": "**PARTE 3** - Crear una matriz aleatoria 3x3 con enteros entre 1 y 20",
   "id": "26dd857a425b4ce5"
  },
  {
   "metadata": {
    "ExecuteTime": {
     "end_time": "2025-06-17T01:57:30.356275Z",
     "start_time": "2025-06-17T01:57:30.338863Z"
    }
   },
   "cell_type": "code",
   "source": [
    "print(\"PARTE 3 - Crear matriz aleatoria 3x3 con enteros entre 1 y 20.\")\n",
    "# ¿Si yo quisiera trabajar con reproducibilidad, qué función necesitaría agregar?\n",
    "z = np.random.randint(1, 21, size=(3, 3))\n",
    "print(F\"Arreglo creado y se llama 'z' = \\n{z}\")\n",
    "print(F\"Dimensionado original = {z.shape}\")"
   ],
   "id": "8200f72f5deb8c3c",
   "outputs": [
    {
     "name": "stdout",
     "output_type": "stream",
     "text": [
      "PARTE 3 - Crear matriz aleatoria 3x3 con enteros entre 1 y 20.\n",
      "Arreglo creado y se llama 'z' = \n",
      "[[12 17 10]\n",
      " [16 15 15]\n",
      " [19 12 20]]\n",
      "Dimensionado original = (3, 3)\n"
     ]
    }
   ],
   "execution_count": 24
  },
  {
   "metadata": {},
   "cell_type": "markdown",
   "source": "**PARTE 4** - Aplicar funciones matemáticas",
   "id": "4f4d8a8805bf9536"
  },
  {
   "metadata": {
    "ExecuteTime": {
     "end_time": "2025-06-17T02:01:57.118977Z",
     "start_time": "2025-06-17T02:01:57.108690Z"
    }
   },
   "cell_type": "code",
   "source": [
    "print(\"- Aplicando raíz cuadrada a la matriz 'x_redimensionado'\")\n",
    "x_sqrt = np.sqrt(x_redimensionado)\n",
    "print(F\"Matriz original = \\n{x_redimensionado}\")\n",
    "print(F\"Raíz cuadrada calculada = \\n{x_sqrt}\")"
   ],
   "id": "200db9e0739195ff",
   "outputs": [
    {
     "name": "stdout",
     "output_type": "stream",
     "text": [
      "- Aplicando raíz cuadrada a la matriz 'x_redimensionado'\n",
      "Matriz original = \n",
      "[[ 1  2  3  4]\n",
      " [ 5  6  7  8]\n",
      " [ 9 10 11 12]\n",
      " [13 14 15 16]]\n",
      "Raíz cuadrada calculada = \n",
      "[[1.         1.41421356 1.73205081 2.        ]\n",
      " [2.23606798 2.44948974 2.64575131 2.82842712]\n",
      " [3.         3.16227766 3.31662479 3.46410162]\n",
      " [3.60555128 3.74165739 3.87298335 4.        ]]\n"
     ]
    }
   ],
   "execution_count": 27
  },
  {
   "metadata": {
    "ExecuteTime": {
     "end_time": "2025-06-17T02:03:59.131246Z",
     "start_time": "2025-06-17T02:03:59.117174Z"
    }
   },
   "cell_type": "code",
   "source": [
    "print(\"- Aplicando logaritmo natural a la matriz 'x_redimensionado'\")\n",
    "x_log = np.log(x_redimensionado)\n",
    "print(F\"Matriz original = \\n{x_redimensionado}\")\n",
    "print(F\"Logaritmo natural calculado = \\n{x_log}\")"
   ],
   "id": "33c8a0406469688",
   "outputs": [
    {
     "name": "stdout",
     "output_type": "stream",
     "text": [
      "- Aplicando logaritmo natural a la matriz 'x_redimensionado'\n",
      "Matriz original = \n",
      "[[ 1  2  3  4]\n",
      " [ 5  6  7  8]\n",
      " [ 9 10 11 12]\n",
      " [13 14 15 16]]\n",
      "Logaritmo natural calculado = \n",
      "[[0.         0.69314718 1.09861229 1.38629436]\n",
      " [1.60943791 1.79175947 1.94591015 2.07944154]\n",
      " [2.19722458 2.30258509 2.39789527 2.48490665]\n",
      " [2.56494936 2.63905733 2.7080502  2.77258872]]\n"
     ]
    }
   ],
   "execution_count": 28
  },
  {
   "metadata": {},
   "cell_type": "markdown",
   "source": "**PARTE 5** - Diferencias entre aplicar funciones en arreglos de enteros vs flotantes",
   "id": "4028402f33786996"
  },
  {
   "metadata": {
    "ExecuteTime": {
     "end_time": "2025-06-17T02:17:32.202934Z",
     "start_time": "2025-06-17T02:17:32.095650Z"
    }
   },
   "cell_type": "code",
   "source": [
    "print(\"- Creación de arreglos para el ejemplo\")\n",
    "arr_int = np.array([1,4,9,16], dtype=int)\n",
    "arr_float = np.array([1.0,4.0,9.0,16.0], dtype=float)\n",
    "\n",
    "print(F\"Arreglo de enteros = {arr_int} (dtype = {arr_int.dtype})\")\n",
    "print(F\"Arreglo de flotantes = {arr_float} (dtype = {arr_float.dtype})\")\n",
    "\n",
    "print(\"\\n- Aplicando el cálculo de la raíz cuadrada\")\n",
    "sqrt_int = np.sqrt(arr_int)\n",
    "sqrt_float = np.sqrt(arr_float)\n",
    "print(F\"Aplicando raíz cuadrada al arreglo de enteros: {sqrt_int} (dtype = {sqrt_int.dtype})\")\n",
    "print(F\"Aplicando raíz cuadrada al arreglo de flotantes: {sqrt_float} (dtype = {sqrt_float.dtype})\")\n",
    "\n",
    "print(\"\\n- Aplicando el cálculo del logaritmo natural\")\n",
    "log_int = np.log(arr_int)\n",
    "log_float = np.log(arr_float)\n",
    "print(F\"Aplicando logaritmo al arreglo de enteros: {log_int} (dtype = {log_int.dtype})\")\n",
    "print(F\"Aplicando logaritmo al arreglo de flotantes: {log_float} (dtype = {log_float.dtype})\")"
   ],
   "id": "8949dc913b91084b",
   "outputs": [
    {
     "name": "stdout",
     "output_type": "stream",
     "text": [
      "- Creación de arreglos para el ejemplo\n",
      "Arreglo de enteros = [ 1  4  9 16] (dtype = int32)\n",
      "Arreglo de flotantes = [ 1.  4.  9. 16.] (dtype = float64)\n",
      "\n",
      "- Aplicando el cálculo de la raíz cuadrada\n",
      "Aplicando raíz cuadrada al arreglo de enteros: [1. 2. 3. 4.] (dtype = float64)\n",
      "Aplicando raíz cuadrada al arreglo de flotantes: [1. 2. 3. 4.] (dtype = float64)\n",
      "\n",
      "- Aplicando el cálculo del logaritmo natural\n",
      "Aplicando logaritmo al arreglo de enteros: [0.         1.38629436 2.19722458 2.77258872] (dtype = float64)\n",
      "Aplicando logaritmo al arreglo de flotantes: [0.         1.38629436 2.19722458 2.77258872] (dtype = float64)\n"
     ]
    }
   ],
   "execution_count": 33
  }
 ],
 "metadata": {
  "kernelspec": {
   "display_name": "Python [conda env:base] *",
   "language": "python",
   "name": "conda-base-py"
  },
  "language_info": {
   "codemirror_mode": {
    "name": "ipython",
    "version": 2
   },
   "file_extension": ".py",
   "mimetype": "text/x-python",
   "name": "python",
   "nbconvert_exporter": "python",
   "pygments_lexer": "ipython2",
   "version": "2.7.6"
  }
 },
 "nbformat": 4,
 "nbformat_minor": 5
}
